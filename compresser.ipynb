{
 "cells": [
  {
   "cell_type": "markdown",
   "metadata": {},
   "source": [
    "# TP DE ICV - Compressor QOI (Quite Okay Image)\n",
    "### Alunos: Arthur Linhares Madureira - 2021031599, César Morais - 2021031521 e Tomas Lacerda - 2021088116\n"
   ]
  },
  {
   "cell_type": "markdown",
   "metadata": {},
   "source": [
    "#### Imports"
   ]
  },
  {
   "cell_type": "code",
   "execution_count": 25,
   "metadata": {},
   "outputs": [],
   "source": [
    "import struct\n",
    "from PIL import Image\n",
    "import os\n",
    "from math import log10, sqrt \n",
    "import cv2 \n",
    "import numpy as np \n",
    "import matplotlib.pyplot as plt\n"
   ]
  },
  {
   "cell_type": "markdown",
   "metadata": {},
   "source": [
    "## Compresser"
   ]
  },
  {
   "cell_type": "markdown",
   "metadata": {},
   "source": [
    "### Expressões\n",
    "Vamos fazer uso de algumas constantes de opcode caracteristicas e do marcador de final para o QOI"
   ]
  },
  {
   "cell_type": "code",
   "execution_count": 9,
   "metadata": {},
   "outputs": [],
   "source": [
    "QOI_OP_INDEX = 0x00\n",
    "QOI_OP_DIFF = 0x40\n",
    "QOI_OP_LUMA = 0x80\n",
    "QOI_OP_RUN = 0xC0\n",
    "QOI_OP_RGB = 0xFE\n",
    "QOI_OP_RGBA = 0xFF\n",
    "QOI_END_MARKER = b'\\x00' * 8"
   ]
  },
  {
   "cell_type": "markdown",
   "metadata": {},
   "source": [
    "### Esse algorítimo foi programado seguindo as instruções de https://qoiformat.org"
   ]
  },
  {
   "cell_type": "markdown",
   "metadata": {},
   "source": [
    "### Algoritmo QOI (Quite Okay Image)\n",
    "\n",
    "O algoritmo QOI (Quite Okay Image) é um formato de compressão de imagens desenvolvido para rápido e eficiente. Ele é projetado para oferecer uma compressão sem perda de qualidade e é especialmente útil para imagens que contêm muitas áreas de cores repetidas. Este pode ser uma boa alternativa ao uso do método de compressão PNG que vamos comparar com ele ao final do compressor. Por sua vez o QOI possue uma documentação enxuta de apenas 1 página de pdf e se destaca muito por sua simplicidade vide os resultados que atinge. O algorítimo original foi programado em apenas 300 linhas de código na linguagem C e foi publicado no ano de 2022\n",
    "\n",
    "\n",
    "Aqui está uma explicação da metodologia por trás do algoritmo QOI:\n",
    "\n",
    "#### Estrutura do Arquivo\n",
    "\n",
    "Um arquivo QOI é composto por três partes principais:\n",
    "1. **Cabeçalho**: Contém informações essenciais sobre a imagem.\n",
    "2. **Dados**: Contém os dados comprimidos da imagem.\n",
    "3. **Marcador de Fim**: Indica o fim dos dados da imagem.\n",
    "\n",
    "##### Cabeçalho (14 bytes)\n",
    "- **Magic Bytes (4 bytes)**: \"qoif\", usado para identificar o arquivo como um arquivo QOI.\n",
    "- **Largura (4 bytes)**: A largura da imagem em pixels (big-endian).\n",
    "- **Altura (4 bytes)**: A altura da imagem em pixels (big-endian).\n",
    "- **Canais (1 byte)**: Número de canais de cores (3 para RGB, 4 para RGBA).\n",
    "- **Espaço de Cor (1 byte)**: Indica o espaço de cor (0 para sRGB com alfa linear, 1 para todos os canais lineares).\n",
    "\n",
    "#### Compressão dos Dados\n",
    "\n",
    "O QOI utiliza um conjunto de técnicas para comprimir os dados da imagem de maneira eficiente:\n",
    "\n",
    "1. **Codificação por Índice**:\n",
    "   - Mantém uma tabela de 64 entradas de cores recentemente vistas.\n",
    "   - Quando uma cor é encontrada novamente, um índice para essa cor é armazenado em vez dos valores completos dos pixels.\n",
    "\n",
    "2. **Codificação por Diferença**:\n",
    "   - Para cores que mudam ligeiramente de um pixel para o próximo, o QOI armazena a diferença entre os valores de cor.\n",
    "   - Utiliza um único byte para armazenar pequenas diferenças entre as cores.\n",
    "\n",
    "3. **Codificação Luma**:\n",
    "   - Extensão da codificação por diferença, otimizada para a diferença no canal de verde (luminância).\n",
    "   - Armazena a diferença do verde e as diferenças relativas dos canais vermelho e azul em dois bytes.\n",
    "\n",
    "4. **Codificação de Execução (Run-Length Encoding)**:\n",
    "   - Agrupa sequências de pixels idênticos.\n",
    "   - Armazena o número de pixels consecutivos que possuem a mesma cor, utilizando um único byte para representar até 62 pixels iguais.\n",
    "\n",
    "5. **Codificação Literal (RGB/RGBA)**:\n",
    "   - Para pixels que não podem ser eficientemente codificados pelos métodos anteriores, os valores RGB ou RGBA são armazenados diretamente.\n",
    "\n",
    "#### Processamento dos Dados\n",
    "\n",
    "O algoritmo processa cada pixel da imagem, utilizando as técnicas de compressão descritas para reduzir o tamanho dos dados armazenados. Durante a decompressão, o processo é invertido, reconstruindo a imagem original a partir dos dados comprimidos.\n",
    "\n",
    "#### Marcador de Fim (8 bytes)\n",
    "- **Marcador**: Uma sequência de 8 bytes zero, indicando o fim dos dados da imagem."
   ]
  },
  {
   "cell_type": "markdown",
   "metadata": {},
   "source": [
    "### Implementação"
   ]
  },
  {
   "cell_type": "code",
   "execution_count": 10,
   "metadata": {},
   "outputs": [],
   "source": [
    "import struct\n",
    "from PIL import Image\n",
    "\n",
    "# Constantes\n",
    "QOI_OP_INDEX = 0x00\n",
    "QOI_OP_DIFF = 0x40\n",
    "QOI_OP_LUMA = 0x80\n",
    "QOI_OP_RUN = 0xC0\n",
    "QOI_OP_RGB = 0xFE\n",
    "QOI_OP_RGBA = 0xFF\n",
    "QOI_END_MARKER = b'\\x00' * 8\n",
    "\n",
    "def qoiEncode(imagePath, outputPath):\n",
    "    image = Image.open(imagePath)\n",
    "    pixels = list(image.getdata())\n",
    "    width, height = image.size\n",
    "    channels = 4 if image.mode == 'RGBA' else 3\n",
    "    header = struct.pack('>4sII', b'qoif', width, height)\n",
    "    header += struct.pack('BB', channels, 0)\n",
    "\n",
    "    index = [(0, 0, 0, 255)] * 64\n",
    "    runLength = 0\n",
    "    previousPixel = (0, 0, 0, 255) if channels == 4 else (0, 0, 0)\n",
    "\n",
    "    encodedData = bytearray()\n",
    "    for pixel in pixels:\n",
    "        if pixel == previousPixel:\n",
    "            runLength += 1\n",
    "            if runLength == 62:\n",
    "                # Codificação de Execução (Run-Length Encoding)\n",
    "                encodedData.append(QOI_OP_RUN | (runLength - 1))\n",
    "                runLength = 0\n",
    "        else:\n",
    "            if runLength > 0:\n",
    "                # Codificação de Execução (Run-Length Encoding)\n",
    "                encodedData.append(QOI_OP_RUN | (runLength - 1))\n",
    "                runLength = 0\n",
    "\n",
    "            # Calcular a posição do índice usando a função de hash\n",
    "            indexPos = (pixel[0] * 3 + pixel[1] * 5 + pixel[2] * 7 + pixel[3] * 11) % 64 if channels == 4 else (pixel[0] * 3 + pixel[1] * 5 + pixel[2] * 7) % 64\n",
    "            \n",
    "            if index[indexPos] == pixel:\n",
    "                # Codificação por Índice\n",
    "                encodedData.append(QOI_OP_INDEX | indexPos)\n",
    "            else:\n",
    "                index[indexPos] = pixel\n",
    "                r, g, b = pixel[:3]\n",
    "                if channels == 4:\n",
    "                    # Codificação Literal (RGBA)\n",
    "                    a = pixel[3]\n",
    "                    encodedData.append(QOI_OP_RGBA)\n",
    "                    encodedData.extend([r, g, b, a])\n",
    "                else:\n",
    "                    dr = (r - previousPixel[0]) & 0xFF\n",
    "                    dg = (g - previousPixel[1]) & 0xFF\n",
    "                    db = (b - previousPixel[2]) & 0xFF\n",
    "                    if -2 <= dr < 2 and -2 <= dg < 2 and -2 <= db < 2:\n",
    "                        # Codificação por Diferença\n",
    "                        encodedData.append(QOI_OP_DIFF | ((dr + 2) << 4) | ((dg + 2) << 2) | (db + 2))\n",
    "                    elif -32 <= dg < 32 and -8 <= (dr - dg) < 8 and -8 <= (db - dg) < 8:\n",
    "                        # Codificação Luma\n",
    "                        encodedData.append(QOI_OP_LUMA | (dg + 32))\n",
    "                        encodedData.append(((dr - dg + 8) << 4) | (db - dg + 8))\n",
    "                    else:\n",
    "                        # Codificação Literal (RGB)\n",
    "                        encodedData.append(QOI_OP_RGB)\n",
    "                        encodedData.extend([r, g, b])\n",
    "        \n",
    "        previousPixel = pixel\n",
    "    \n",
    "    # Codificar qualquer runLength restante\n",
    "    if runLength > 0:\n",
    "        encodedData.append(QOI_OP_RUN | (runLength - 1))\n",
    "\n",
    "    with open(outputPath, 'wb') as f:\n",
    "        f.write(header)\n",
    "        f.write(encodedData)\n",
    "        f.write(QOI_END_MARKER)"
   ]
  },
  {
   "cell_type": "markdown",
   "metadata": {},
   "source": [
    "#### Para descomprimir seguimos um processo de engenharia reversa do que foi feito para comprimir"
   ]
  },
  {
   "cell_type": "code",
   "execution_count": 11,
   "metadata": {},
   "outputs": [],
   "source": [
    "def qoiDecode(inputPath, outputPath):\n",
    "    with open(inputPath, 'rb') as f:\n",
    "        header = f.read(14)\n",
    "        magic, width, height, channels, colorspace = struct.unpack('>4sII', header[:12]) + struct.unpack('BB', header[12:14])\n",
    "        \n",
    "        if magic != b'qoif':\n",
    "            raise ValueError('Invalid QOI file')\n",
    "\n",
    "        width = int(width)\n",
    "        height = int(height)\n",
    "        channels = int(channels)\n",
    "\n",
    "        pixels = []\n",
    "        index = [(0, 0, 0, 255)] * 64\n",
    "        previousPixel = (0, 0, 0, 255) if channels == 4 else (0, 0, 0)\n",
    "        runLength = 0\n",
    "\n",
    "        while len(pixels) < width * height:\n",
    "            if runLength > 0:\n",
    "                # Decodificação de Execução (Run-Length Decoding)\n",
    "                runLength -= 1\n",
    "                pixels.append(previousPixel)\n",
    "                continue\n",
    "\n",
    "            byte = f.read(1)\n",
    "            if byte == b'':\n",
    "                break\n",
    "\n",
    "            byte = ord(byte)\n",
    "            if byte == QOI_OP_RGB:\n",
    "                # Decodificação Literal (RGB)\n",
    "                r = ord(f.read(1))\n",
    "                g = ord(f.read(1))\n",
    "                b = ord(f.read(1))\n",
    "                pixel = (r, g, b, previousPixel[3]) if channels == 4 else (r, g, b)\n",
    "            elif byte == QOI_OP_RGBA:\n",
    "                # Decodificação Literal (RGBA)\n",
    "                r = ord(f.read(1))\n",
    "                g = ord(f.read(1))\n",
    "                b = ord(f.read(1))\n",
    "                a = ord(f.read(1))\n",
    "                pixel = (r, g, b, a)\n",
    "            elif byte & 0xC0 == QOI_OP_INDEX:\n",
    "                # Decodificação por Índice\n",
    "                pixel = index[byte & 0x3F]\n",
    "            elif byte & 0xC0 == QOI_OP_DIFF:\n",
    "                # Decodificação por Diferença\n",
    "                dr = ((byte >> 4) & 0x03) - 2\n",
    "                dg = ((byte >> 2) & 0x03) - 2\n",
    "                db = (byte & 0x03) - 2\n",
    "                r, g, b = previousPixel[:3]\n",
    "                pixel = ((r + dr) % 256, (g + dg) % 256, (b + db) % 256, previousPixel[3]) if channels == 4 else ((r + dr) % 256, (g + dg) % 256, (b + db) % 256)\n",
    "            elif byte & 0xC0 == QOI_OP_LUMA:\n",
    "                # Decodificação Luma\n",
    "                dg = (byte & 0x3F) - 32\n",
    "                byte = ord(f.read(1))\n",
    "                dr = ((byte >> 4) & 0x0F) - 8 + dg\n",
    "                db = (byte & 0x0F) - 8 + dg\n",
    "                r, g, b = previousPixel[:3]\n",
    "                pixel = ((r + dr) % 256, (g + dg) % 256, (b + db) % 256, previousPixel[3]) if channels == 4 else ((r + dr) % 256, (g + dg) % 256, (b + db) % 256)\n",
    "            elif byte & 0xC0 == QOI_OP_RUN:\n",
    "                # Decodificação de Execução (Run-Length Decoding)\n",
    "                runLength = (byte & 0x3F) + 1\n",
    "                pixels.append(previousPixel)\n",
    "                runLength -= 1\n",
    "                continue\n",
    "            else:\n",
    "                raise ValueError('Unknown QOI opcode')\n",
    "\n",
    "            indexPos = (pixel[0] * 3 + pixel[1] * 5 + pixel[2] * 7 + pixel[3] * 11) % 64 if channels == 4 else (pixel[0] * 3 + pixel[1] * 5 + pixel[2] * 7) % 64\n",
    "            index[indexPos] = pixel\n",
    "            previousPixel = pixel\n",
    "            pixels.append(pixel)\n",
    "\n",
    "        pixels = [(r, g, b, a) for r, g, b, a in pixels] if channels == 4 else [(r, g, b) for r, g, b in pixels]\n",
    "        image = Image.new('RGBA' if channels == 4 else 'RGB', (width, height))\n",
    "        image.putdata(pixels)\n",
    "        image.save(outputPath)"
   ]
  },
  {
   "cell_type": "markdown",
   "metadata": {},
   "source": [
    "## Comparação de eficiência\n",
    "\n",
    "Executamos o algoritmo em um conjunto de imagens próprio para testar o QOI, disponibilizado em (COLOCAR LINK). Como o QOI é um método sem perda, esperamos um PSNR igual a 100, o valor máximo possível para [a implementação utilizada](https://www.geeksforgeeks.org/python-peak-signal-to-noise-ratio-psnr/) (teoricamente o PSNR sem perda tende a infinito)."
   ]
  },
  {
   "cell_type": "code",
   "execution_count": 17,
   "metadata": {},
   "outputs": [],
   "source": [
    "def PSNR(original, compressed): \n",
    "    mse = np.mean((original - compressed) ** 2) \n",
    "\n",
    "    # Se mse = 0, não há ruído na imagem\n",
    "    if(mse == 0):\n",
    "        return 100\n",
    "    \n",
    "    max_pixel = 255.0\n",
    "    psnr = 20 * log10(max_pixel / sqrt(mse)) \n",
    "    return psnr\n",
    "\n",
    "def getRawPixelDataSize(imagePath):\n",
    "    with Image.open(imagePath) as img:\n",
    "        width, height = img.size\n",
    "        channels = 4 if img.mode == 'RGBA' else 3\n",
    "        rawSize = width * height * channels\n",
    "        return rawSize\n",
    "\n",
    "def getFileSize(filePath):\n",
    "    return os.path.getsize(filePath)\n",
    "\n",
    "def compareCompressionEfficiency(imageName, inputPath, qoiPath, outputPath):\n",
    "    rawSize = getRawPixelDataSize(inputPath)\n",
    "    qoiSize = getFileSize(qoiPath)\n",
    "    psnr = PSNR(cv2.imread(inputPath), (cv2.imread(outputPath, 1)))\n",
    "\n",
    "    comp_ratio = rawSize / qoiSize\n",
    "    print(f'{imageName} - PSNR: {psnr}, Compression Ratio: {comp_ratio:.2f}')\n",
    "\n",
    "    return comp_ratio"
   ]
  },
  {
   "cell_type": "code",
   "execution_count": 18,
   "metadata": {},
   "outputs": [
    {
     "name": "stdout",
     "output_type": "stream",
     "text": [
      "dice.png - PSNR: 100, Compression Ratio: 3.18\n",
      "testcard_rgba.png - PSNR: 100, Compression Ratio: 7.17\n",
      "edgecase.png - PSNR: 100, Compression Ratio: 23.22\n",
      "wikipedia_008.png - PSNR: 100, Compression Ratio: 1.23\n",
      "qoi_logo.png - PSNR: 100, Compression Ratio: 23.90\n",
      "kodim23.png - PSNR: 100, Compression Ratio: 1.13\n",
      "testcard.png - PSNR: 100, Compression Ratio: 7.58\n"
     ]
    }
   ],
   "source": [
    "def process_images(input_dir, qoi_dir, output_dir):\n",
    "    os.makedirs(qoi_dir, exist_ok=True)\n",
    "    os.makedirs(output_dir, exist_ok=True)\n",
    "\n",
    "    compression_ratios = []\n",
    "    \n",
    "    for filename in os.listdir(input_dir):\n",
    "        if filename.endswith('.png'):\n",
    "            input_path = os.path.join(input_dir, filename)\n",
    "            qoi_filename = filename.replace('.png', '.qoi')\n",
    "            qoi_path = os.path.join(qoi_dir, qoi_filename)\n",
    "            output_path = os.path.join(output_dir, filename)\n",
    "\n",
    "            qoiEncode(input_path, qoi_path)\n",
    "            qoiDecode(qoi_path, output_path)\n",
    "            comp_ratio = compareCompressionEfficiency(filename, input_path, qoi_path, output_path)\n",
    "\n",
    "            compression_ratios.append(comp_ratio)\n",
    "\n",
    "    return compression_ratios\n",
    "\n",
    "# Caminhos dos diretórios\n",
    "input_images_dir = 'input_images'\n",
    "qoi_files_dir = 'qoi_files'\n",
    "output_images_dir = 'output_images'\n",
    "\n",
    "# Executa o processamento, guardando os compression ratios para comparação posterior com PNG\n",
    "qoi_compression_ratios = process_images(input_images_dir, qoi_files_dir, output_images_dir)"
   ]
  },
  {
   "cell_type": "markdown",
   "metadata": {},
   "source": [
    "Como previsto, tivemos PSNR de 100 em todas as compressões, ou seja, não há perda, o que é notável ao vermos quaisquer duas imagens antes e pós compressão:\n",
    "\n",
    "<div style=\"display: flex; justify-content: space-around;\">\n",
    "    <div style=\"text-align: center;\">\n",
    "        <img src=\"input_images/kodim23.png\" alt=\"Image 1\" style=\"width:600px;\">\n",
    "        <p>Imagem antes da compressão</p>\n",
    "    </div>\n",
    "    <div style=\"text-align: center;\">\n",
    "        <img src=\"output_images/kodim23.png\" alt=\"Image 2\" style=\"width:600px;\">\n",
    "        <p>Imagem após compressão</p>\n",
    "    </div>\n",
    "</div>"
   ]
  },
  {
   "cell_type": "markdown",
   "metadata": {},
   "source": [
    "## Comparação com PNG\n",
    "O PNG é indiscutivelmente o algoritmo sem perda mais utilizado pelo mercado, e nesse contexto o QOI foi desenvolvido para processamento mais rápido que o PNG, com menores taxas de compressão. Vamos então comparar as taxas de compressão de ambos:"
   ]
  },
  {
   "cell_type": "code",
   "execution_count": 38,
   "metadata": {},
   "outputs": [],
   "source": [
    "def get_png_compression_ratios(png_path):\n",
    "    png_comp_ratios = []\n",
    "\n",
    "    for filename in os.listdir(png_path):\n",
    "        if filename.endswith('.png'):\n",
    "            file_path = os.path.join(png_path, filename)\n",
    "            rawSize = getRawPixelDataSize(file_path)\n",
    "            pngSize = getFileSize(file_path)\n",
    "\n",
    "            png_comp_ratios.append(rawSize/pngSize)\n",
    "\n",
    "    return png_comp_ratios\n",
    "\n",
    "def plot_bar_graph(labels, qoi_group, png_group):\n",
    "    x = np.arange(len(labels))\n",
    "    width = 0.35 \n",
    "    fig, ax = plt.subplots(figsize=(10, 6))\n",
    "\n",
    "    rects1 = ax.bar(x - width/2, qoi_group, width, label='QOI')\n",
    "    rects2 = ax.bar(x + width/2, png_group, width, label='PNG')\n",
    "\n",
    "    ax.set_ylabel('Compression Ratio')\n",
    "    ax.set_title('QOI vs. PNG Compression')\n",
    "    ax.set_xticks(x)\n",
    "    ax.set_xticklabels(labels, fontsize=10)\n",
    "    ax.legend()\n",
    "\n",
    "    fig.tight_layout()\n",
    "\n",
    "    plt.show()"
   ]
  },
  {
   "cell_type": "code",
   "execution_count": 39,
   "metadata": {},
   "outputs": [
    {
     "data": {
      "image/png": "[encoded data removed]",
      "text/plain": [
       "<Figure size 1000x600 with 1 Axes>"
      ]
     },
     "metadata": {},
     "output_type": "display_data"
    }
   ],
   "source": [
    "labels = [fn for fn in os.listdir(input_images_dir)]\n",
    "png_compression_ratios = get_png_compression_ratios(input_images_dir)\n",
    "\n",
    "plot_bar_graph(labels, qoi_compression_ratios, png_compression_ratios)"
   ]
  },
  {
   "cell_type": "markdown",
   "metadata": {},
   "source": [
    "É perceptível que, em geral, há resultados piores do que a compressão com PNG, como o esperado."
   ]
  }
 ],
 "metadata": {
  "kernelspec": {
   "display_name": "Python 3",
   "language": "python",
   "name": "python3"
  },
  "language_info": {
   "codemirror_mode": {
    "name": "ipython",
    "version": 3
   },
   "file_extension": ".py",
   "mimetype": "text/x-python",
   "name": "python",
   "nbconvert_exporter": "python",
   "pygments_lexer": "ipython3",
   "version": "3.10.12"
  }
 },
 "nbformat": 4,
 "nbformat_minor": 2
}
